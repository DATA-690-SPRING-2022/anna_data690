{
  "nbformat": 4,
  "nbformat_minor": 0,
  "metadata": {
    "colab": {
      "name": "Homework_03.ipynb",
      "provenance": [],
      "collapsed_sections": [],
      "authorship_tag": "ABX9TyNcT32NdM8+XmWC7pvNOyQP",
      "include_colab_link": true
    },
    "kernelspec": {
      "name": "python3",
      "display_name": "Python 3"
    },
    "language_info": {
      "name": "python"
    }
  },
  "cells": [
    {
      "cell_type": "markdown",
      "metadata": {
        "id": "view-in-github",
        "colab_type": "text"
      },
      "source": [
        "<a href=\"https://colab.research.google.com/github/aperfilyeva/anna_data690/blob/main/assignment_03/Homework_03.ipynb\" target=\"_parent\"><img src=\"https://colab.research.google.com/assets/colab-badge.svg\" alt=\"Open In Colab\"/></a>"
      ]
    },
    {
      "cell_type": "markdown",
      "source": [
        "# Homework 3\n",
        "\n",
        " - Name: Anna Perfilyeva\n",
        " - Date: 02/17/2022"
      ],
      "metadata": {
        "id": "DzqELQYSEqeH"
      }
    },
    {
      "cell_type": "markdown",
      "source": [
        "### 1. Create a 10 by 10 matrix of random integers"
      ],
      "metadata": {
        "id": "GBAuOD5hJ7Cz"
      }
    },
    {
      "cell_type": "code",
      "source": [
        "import random;"
      ],
      "metadata": {
        "colab": {
          "base_uri": "https://localhost:8080/"
        },
        "id": "Bvz9oiTOEykH",
        "outputId": "260a06e3-323d-46e0-a5fe-02dcadc3fa13"
      },
      "execution_count": 2,
      "outputs": [
        {
          "output_type": "execute_result",
          "data": {
            "text/plain": [
              "0"
            ]
          },
          "metadata": {},
          "execution_count": 2
        }
      ]
    },
    {
      "cell_type": "code",
      "source": [
        "y=random.randint(0,9)"
      ],
      "metadata": {
        "id": "JP7VVHmNE4gd"
      },
      "execution_count": 3,
      "outputs": []
    },
    {
      "cell_type": "code",
      "source": [
        "for n in range (10): #repeats each row 10 times\n",
        "    for i in range(10): #repeats each integer 10 times\n",
        "       y=random.randint(0,9)\n",
        "       print(y, end=\" \") #prints one character with space at the end\n",
        "    print(end=\" \\n\")  #starts a new row after each 10 char"
      ],
      "metadata": {
        "colab": {
          "base_uri": "https://localhost:8080/"
        },
        "id": "mz3CIXriFF09",
        "outputId": "2c6584c5-a1ca-4a7b-fbf4-939219c09893"
      },
      "execution_count": 31,
      "outputs": [
        {
          "output_type": "stream",
          "name": "stdout",
          "text": [
            "4 7 3 7 0 7 0 8 1 6  \n",
            "9 9 4 1 2 8 6 4 3 2  \n",
            "9 4 3 9 3 9 9 0 4 1  \n",
            "8 0 5 3 2 8 4 5 9 3  \n",
            "6 8 3 7 4 0 1 8 9 3  \n",
            "0 1 5 3 0 7 2 7 0 9  \n",
            "5 9 8 9 2 7 2 7 2 0  \n",
            "5 1 9 8 9 3 7 0 2 6  \n",
            "8 9 2 1 7 3 5 7 6 7  \n",
            "8 1 0 8 5 3 0 9 4 4  \n"
          ]
        }
      ]
    },
    {
      "cell_type": "markdown",
      "source": [
        "### 2. If a number is odd, print @ instead"
      ],
      "metadata": {
        "id": "uPQ4s9koKUXq"
      }
    },
    {
      "cell_type": "code",
      "source": [
        "for n in range (10): #repeats each row 10 times\n",
        "    for i in range(10): #repeats each integer 10 times\n",
        "       y=random.randint(0,9)\n",
        "       if(y % 2) ==0:\n",
        "           print(y, end=\" \") #prints one character with space at the end\n",
        "       else:\n",
        "           print(\"@\", end=\" \")\n",
        "    print(end=\" \\n\")"
      ],
      "metadata": {
        "colab": {
          "base_uri": "https://localhost:8080/"
        },
        "id": "51AcUaA_Lc3y",
        "outputId": "03b74113-ac63-4960-dd67-a249bdc67bd3"
      },
      "execution_count": 39,
      "outputs": [
        {
          "output_type": "stream",
          "name": "stdout",
          "text": [
            "@ 0 8 @ @ 2 8 @ @ @  \n",
            "2 6 2 @ @ 8 4 4 @ @  \n",
            "0 @ @ @ @ @ 6 @ @ 6  \n",
            "2 @ @ @ @ @ 2 6 4 @  \n",
            "4 8 @ @ 8 @ 2 4 @ @  \n",
            "8 8 @ @ 0 6 @ @ @ @  \n",
            "@ 4 6 @ @ 8 @ 4 @ 2  \n",
            "4 @ @ 0 @ 8 @ 8 2 6  \n",
            "4 @ 0 @ @ @ 0 8 @ 6  \n",
            "8 @ @ @ 6 0 0 @ @ 6  \n"
          ]
        }
      ]
    },
    {
      "cell_type": "markdown",
      "source": [
        "### 3. Calculate and print the total of each row"
      ],
      "metadata": {
        "id": "ilQMiF38MDj0"
      }
    },
    {
      "cell_type": "code",
      "source": [
        "sum=0\n",
        "for n in range (10): #repeats each row 10 times\n",
        "    for i in range(10): #repeats each integer 10 times\n",
        "       y=random.randint(0,9)\n",
        "       sum=sum+ y\n",
        "       print(y,end=\" \") #prints one integer with space at the end\n",
        "    print( \"*\",sum,end=\" \\n\")  #starts a new row after each 10 char\n",
        "    sum=0                     #resets sum to 0 before the next loop\n",
        " "
      ],
      "metadata": {
        "colab": {
          "base_uri": "https://localhost:8080/"
        },
        "id": "tkrMB0VNK-4u",
        "outputId": "a934c195-6717-44f0-de76-72d15ed572fa"
      },
      "execution_count": 50,
      "outputs": [
        {
          "output_type": "stream",
          "name": "stdout",
          "text": [
            "3 9 8 7 4 6 2 0 9 3 * 51 \n",
            "0 0 1 9 0 3 1 0 3 0 * 17 \n",
            "6 5 3 0 9 7 1 6 8 0 * 45 \n",
            "4 6 4 6 0 8 1 9 2 3 * 43 \n",
            "7 2 2 7 0 0 4 8 0 1 * 31 \n",
            "9 4 0 6 2 9 3 0 4 1 * 38 \n",
            "5 6 6 5 5 9 1 9 0 7 * 53 \n",
            "4 2 8 6 9 7 0 2 1 0 * 39 \n",
            "0 4 3 8 7 6 9 9 9 0 * 55 \n",
            "8 7 1 9 7 2 0 7 7 8 * 56 \n"
          ]
        }
      ]
    },
    {
      "cell_type": "markdown",
      "source": [
        "### 4. Surround the matrix with asterisks"
      ],
      "metadata": {
        "id": "-nws4ZiiOYVs"
      }
    },
    {
      "cell_type": "code",
      "source": [
        "for i in range(23):\n",
        "  print(\"*\",end=\"\")\n",
        "print(\"\")\n",
        "\n",
        "for n in range (10): #repeats each row 10 times\n",
        "    print(\"* \", end=\"\")\n",
        "    for i in range(10): #repeats each integer 10 times\n",
        "       y=random.randint(0,9)\n",
        "       print(y, end=\" \") #prints one integer with space at the end\n",
        "    print(end=\"* \\n\")  #starts a new row after each 10 char\n",
        "#print(\"*\")\n",
        "\n",
        "for i in range(23):\n",
        "  print(\"*\",end=\"\")\n",
        "print(\"\")"
      ],
      "metadata": {
        "colab": {
          "base_uri": "https://localhost:8080/"
        },
        "id": "kvNg1LK-MVGY",
        "outputId": "22870710-32ca-4e05-e119-d0d81b343358"
      },
      "execution_count": 80,
      "outputs": [
        {
          "output_type": "stream",
          "name": "stdout",
          "text": [
            "***********************\n",
            "* 9 6 3 3 6 0 0 2 0 8 * \n",
            "* 0 2 9 5 2 0 9 4 7 3 * \n",
            "* 7 0 9 7 5 2 6 3 3 3 * \n",
            "* 0 6 7 0 1 6 0 4 9 1 * \n",
            "* 0 4 6 5 2 7 1 5 7 2 * \n",
            "* 0 4 2 1 9 6 6 4 8 8 * \n",
            "* 1 4 4 4 7 8 8 4 6 4 * \n",
            "* 0 8 0 4 1 5 6 0 9 3 * \n",
            "* 6 9 0 2 4 8 2 4 9 6 * \n",
            "* 5 8 2 3 0 2 3 6 0 4 * \n",
            "***********************\n"
          ]
        }
      ]
    },
    {
      "cell_type": "markdown",
      "source": [
        "### 5. Add Sums by Column and Row"
      ],
      "metadata": {
        "id": "yAsQL6QWUx8M"
      }
    },
    {
      "cell_type": "code",
      "source": [
        "\n",
        "\n",
        "sum=0\n",
        "sum1=[0]*10    #start a list for column sums\n",
        "\n",
        "for n in range (10): #recreates each row 10 times\n",
        "    for i in range(10): #repeats each integer 10 times\n",
        "       y=random.randint(0,9)\n",
        "       sum=sum+y\n",
        "       sum1[i]=sum1[i] + y\n",
        "       print(y, end=\"  \") # prints one integer with space at the end\n",
        "    print(\"*\", sum,end=\" \\n\")  #starts a new row after each 10 char\n",
        "    sum=0\n",
        "\n",
        "for i in range(10):\n",
        "  print(\"*\",end=\"  \")\n",
        "print(\"\")\n",
        "\n",
        "for i in range(10):                # loop to print sum of each column\n",
        "     print(sum1[i], end=\" \")\n",
        "\n",
        "\n"
      ],
      "metadata": {
        "colab": {
          "base_uri": "https://localhost:8080/"
        },
        "id": "C1FsPXl4Ouhg",
        "outputId": "e0001bb4-530c-41bf-ef16-c648a2cd94cf"
      },
      "execution_count": 124,
      "outputs": [
        {
          "output_type": "stream",
          "name": "stdout",
          "text": [
            "7  5  7  6  3  1  2  5  2  8  * 46 \n",
            "9  8  6  3  1  6  6  3  6  6  * 54 \n",
            "7  7  5  5  9  2  9  7  8  0  * 59 \n",
            "5  8  1  7  6  4  0  5  8  8  * 52 \n",
            "8  4  1  9  8  4  8  2  2  0  * 46 \n",
            "9  6  6  2  1  1  8  4  3  8  * 48 \n",
            "4  1  3  5  2  5  5  2  4  0  * 31 \n",
            "6  2  5  7  1  8  9  6  6  9  * 59 \n",
            "6  7  2  0  0  2  5  6  5  7  * 40 \n",
            "7  4  3  9  7  9  9  6  8  0  * 62 \n",
            "*  *  *  *  *  *  *  *  *  *  \n",
            "68 52 39 53 38 42 61 46 52 46 "
          ]
        }
      ]
    },
    {
      "cell_type": "code",
      "source": [
        ""
      ],
      "metadata": {
        "id": "R19dbkih2Pcu"
      },
      "execution_count": null,
      "outputs": []
    }
  ]
}