{
  "nbformat": 4,
  "nbformat_minor": 0,
  "metadata": {
    "colab": {
      "name": "in_class_practice_part_3.ipynb",
      "provenance": [],
      "mount_file_id": "1tPYQWlgkRRWJk0l8VDvy9xEEPyne6Lqq",
      "authorship_tag": "ABX9TyOGSyF4r6lMyOdhaYAaJw0Q",
      "include_colab_link": true
    },
    "kernelspec": {
      "name": "python3",
      "display_name": "Python 3"
    },
    "language_info": {
      "name": "python"
    }
  },
  "cells": [
    {
      "cell_type": "markdown",
      "metadata": {
        "id": "view-in-github",
        "colab_type": "text"
      },
      "source": [
        "<a href=\"https://colab.research.google.com/github/aperfilyeva/anna_data690/blob/main/assignment_04/in_class_practice_part_3.ipynb\" target=\"_parent\"><img src=\"https://colab.research.google.com/assets/colab-badge.svg\" alt=\"Open In Colab\"/></a>"
      ]
    },
    {
      "cell_type": "markdown",
      "source": [
        "# In Class Practice Part 3\n",
        "\n",
        " - Name: Anna Perfilyeva\n",
        " - Date: 02/21/22"
      ],
      "metadata": {
        "id": "CaAT6X9uOQlL"
      }
    },
    {
      "cell_type": "code",
      "execution_count": null,
      "metadata": {
        "id": "iJF0Y8erLqBY"
      },
      "outputs": [],
      "source": [
        "with open(\"census_costs.txt\",\"r\") as f:\n",
        "    line_list = f.readlines()\n",
        "\n",
        "line_list"
      ]
    },
    {
      "cell_type": "code",
      "source": [
        "top2_list=line_list[0:2]\n",
        "top2_list"
      ],
      "metadata": {
        "id": "ndjsmoB8OYn9"
      },
      "execution_count": null,
      "outputs": []
    },
    {
      "cell_type": "code",
      "source": [
        "# alist [stop:stop]\n",
        "# alist [-1] last one\n",
        "# alist[-4] fourth from the last\n",
        "last2_list=line_list[-2:]\n",
        "last2_list"
      ],
      "metadata": {
        "id": "oDeOPQVGPCU5"
      },
      "execution_count": null,
      "outputs": []
    },
    {
      "cell_type": "code",
      "source": [
        ""
      ],
      "metadata": {
        "id": "Mu8_D-y0PLiq"
      },
      "execution_count": null,
      "outputs": []
    }
  ]
}