{
  "nbformat": 4,
  "nbformat_minor": 0,
  "metadata": {
    "colab": {
      "name": "in_class_practice04.ipynb",
      "provenance": [],
      "authorship_tag": "ABX9TyP6jSFUJwsMdEh4u2ygNhcl",
      "include_colab_link": true
    },
    "kernelspec": {
      "name": "python3",
      "display_name": "Python 3"
    },
    "language_info": {
      "name": "python"
    }
  },
  "cells": [
    {
      "cell_type": "markdown",
      "metadata": {
        "id": "view-in-github",
        "colab_type": "text"
      },
      "source": [
        "<a href=\"https://colab.research.google.com/github/aperfilyeva/anna_data690/blob/main/assignment_04/in_class_practice04.ipynb\" target=\"_parent\"><img src=\"https://colab.research.google.com/assets/colab-badge.svg\" alt=\"Open In Colab\"/></a>"
      ]
    },
    {
      "cell_type": "code",
      "execution_count": null,
      "metadata": {
        "id": "mk3uNjiT1Su-"
      },
      "outputs": [],
      "source": [
        ""
      ]
    },
    {
      "cell_type": "markdown",
      "source": [
        "# In-Class Practice\n",
        "\n",
        " - Name: Anna Perfilyeva\n",
        " - Date: 02/21/22"
      ],
      "metadata": {
        "id": "NkFdRBHG1UjV"
      }
    },
    {
      "cell_type": "code",
      "source": [
        "import random\n",
        "import re\n",
        "for i in range(0,10):\n",
        "    print(end=\"\\n \")\n",
        "for j in range(0,10):\n",
        "    num=random.randint(0,9)\n",
        "if (num % 2) == 0:\n",
        "    print(num, end=\" \")\n",
        "else:\n",
        "    strnum = str(num)\n",
        "strnum=strnum.replace(strnum,\"@\")\n",
        "print(strnum, end=\" \")\n"
      ],
      "metadata": {
        "id": "QGxoGyt-1chX"
      },
      "execution_count": null,
      "outputs": []
    },
    {
      "cell_type": "code",
      "source": [
        "x=\"Hello, wporld!\"\n",
        "\n",
        "print(x)"
      ],
      "metadata": {
        "colab": {
          "base_uri": "https://localhost:8080/"
        },
        "id": "xn4-UshV1lCq",
        "outputId": "db867157-d98e-4872-f23c-a46838bbe764"
      },
      "execution_count": 4,
      "outputs": [
        {
          "output_type": "stream",
          "name": "stdout",
          "text": [
            "Hello, wporld!\n"
          ]
        }
      ]
    },
    {
      "cell_type": "code",
      "source": [
        "x=x.replace(\"p\",\"\")"
      ],
      "metadata": {
        "id": "Cn4bBGIz1w52"
      },
      "execution_count": 5,
      "outputs": []
    },
    {
      "cell_type": "code",
      "source": [
        "x=x.replace(\"Hello\",\"Hi\")\n",
        "\n",
        "print(x)"
      ],
      "metadata": {
        "colab": {
          "base_uri": "https://localhost:8080/"
        },
        "id": "CEhoWFXG12Wa",
        "outputId": "0a2959cb-2c35-43ed-8e82-00aa1b5bf205"
      },
      "execution_count": 6,
      "outputs": [
        {
          "output_type": "stream",
          "name": "stdout",
          "text": [
            "Hi, world!\n"
          ]
        }
      ]
    },
    {
      "cell_type": "code",
      "source": [
        "x.replace(\"w\",\"W\")"
      ],
      "metadata": {
        "colab": {
          "base_uri": "https://localhost:8080/",
          "height": 35
        },
        "id": "4jY63Xh31-0t",
        "outputId": "bb6d2900-c81e-4d79-f073-3603e3eb1283"
      },
      "execution_count": 8,
      "outputs": [
        {
          "output_type": "execute_result",
          "data": {
            "application/vnd.google.colaboratory.intrinsic+json": {
              "type": "string"
            },
            "text/plain": [
              "'Hi, World!'"
            ]
          },
          "metadata": {},
          "execution_count": 8
        }
      ]
    },
    {
      "cell_type": "code",
      "source": [
        "x=x.upper()\n",
        "print(x)"
      ],
      "metadata": {
        "colab": {
          "base_uri": "https://localhost:8080/"
        },
        "id": "cPmsAi8y2DJY",
        "outputId": "c7a00ea3-9b85-4118-887c-6070cb8d4ea5"
      },
      "execution_count": 11,
      "outputs": [
        {
          "output_type": "stream",
          "name": "stdout",
          "text": [
            "HI, WORLD!\n"
          ]
        }
      ]
    },
    {
      "cell_type": "markdown",
      "source": [
        "# String functions/operations\n",
        "\n",
        "- upper()\n",
        "- lower()\n",
        "- replace()\n",
        "- strip()\n",
        "- lstrip()\n",
        "- rstrip()"
      ],
      "metadata": {
        "id": "LgBSookt3KPL"
      }
    },
    {
      "cell_type": "code",
      "source": [
        "numbers=[]\n",
        "\n",
        "for i in range(100):\n",
        "      numbers.append(random.randint(0,9))\n",
        "print(numbers)\n"
      ],
      "metadata": {
        "colab": {
          "base_uri": "https://localhost:8080/"
        },
        "id": "qiMuage43IBI",
        "outputId": "6720134f-e15d-44e9-f516-bee765b7f074"
      },
      "execution_count": 16,
      "outputs": [
        {
          "output_type": "stream",
          "name": "stdout",
          "text": [
            "[6, 0, 6, 5, 1, 5, 9, 9, 7, 7, 7, 8, 3, 0, 6, 0, 4, 5, 7, 2, 2, 0, 6, 7, 6, 1, 4, 8, 1, 7, 2, 9, 1, 9, 5, 9, 6, 4, 8, 7, 0, 0, 1, 1, 7, 1, 4, 1, 0, 5, 6, 6, 1, 3, 1, 0, 9, 0, 7, 9, 9, 8, 7, 9, 6, 7, 9, 8, 8, 4, 3, 3, 4, 2, 0, 3, 8, 1, 7, 7, 6, 7, 8, 7, 6, 0, 7, 4, 1, 5, 9, 7, 3, 1, 7, 6, 8, 5, 1, 8]\n"
          ]
        }
      ]
    },
    {
      "cell_type": "code",
      "source": [
        "for i in range(0,100,1):\n",
        "    print(\"index=\", i, \"member=\",numbers[i])"
      ],
      "metadata": {
        "id": "bctseQzn5DCT"
      },
      "execution_count": null,
      "outputs": []
    },
    {
      "cell_type": "code",
      "source": [
        "count=0\n",
        "for i in range(10):\n",
        " for j in range(10):\n",
        "   print(numbers[count],\" \", end =\" \")\n",
        " count+=1\n",
        " print(\"\\n\")\n"
      ],
      "metadata": {
        "colab": {
          "base_uri": "https://localhost:8080/"
        },
        "id": "4gaDUUqv31Rq",
        "outputId": "a8d5447f-65c1-4f77-fe59-38eb3f6c2b2e"
      },
      "execution_count": 29,
      "outputs": [
        {
          "output_type": "stream",
          "name": "stdout",
          "text": [
            "6   6   6   6   6   6   6   6   6   6   \n",
            "\n",
            "0   0   0   0   0   0   0   0   0   0   \n",
            "\n",
            "6   6   6   6   6   6   6   6   6   6   \n",
            "\n",
            "5   5   5   5   5   5   5   5   5   5   \n",
            "\n",
            "1   1   1   1   1   1   1   1   1   1   \n",
            "\n",
            "5   5   5   5   5   5   5   5   5   5   \n",
            "\n",
            "9   9   9   9   9   9   9   9   9   9   \n",
            "\n",
            "9   9   9   9   9   9   9   9   9   9   \n",
            "\n",
            "7   7   7   7   7   7   7   7   7   7   \n",
            "\n",
            "7   7   7   7   7   7   7   7   7   7   \n",
            "\n"
          ]
        }
      ]
    },
    {
      "cell_type": "code",
      "source": [
        "x=[0,0,0,0,0,0,0]\n",
        "\n",
        "print(x)"
      ],
      "metadata": {
        "colab": {
          "base_uri": "https://localhost:8080/"
        },
        "id": "n-rMbH3E5i-n",
        "outputId": "145ddde2-0bd0-48eb-9479-0f307972a2db"
      },
      "execution_count": 37,
      "outputs": [
        {
          "output_type": "stream",
          "name": "stdout",
          "text": [
            "[0, 0, 0, 0, 0, 0, 0]\n"
          ]
        }
      ]
    },
    {
      "cell_type": "code",
      "source": [
        "x=[0]*6\n",
        "print(x)"
      ],
      "metadata": {
        "colab": {
          "base_uri": "https://localhost:8080/"
        },
        "id": "prwASIy27GA9",
        "outputId": "4ded55f3-f395-4272-b99e-79bf9372da34"
      },
      "execution_count": 39,
      "outputs": [
        {
          "output_type": "stream",
          "name": "stdout",
          "text": [
            "[0, 0, 0, 0, 0, 0]\n"
          ]
        }
      ]
    },
    {
      "cell_type": "code",
      "source": [
        ""
      ],
      "metadata": {
        "id": "KrZDImgJ7IEn"
      },
      "execution_count": null,
      "outputs": []
    }
  ]
}