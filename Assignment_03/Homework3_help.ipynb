{
  "nbformat": 4,
  "nbformat_minor": 0,
  "metadata": {
    "colab": {
      "name": "Homework3_help.ipynb",
      "provenance": [],
      "authorship_tag": "ABX9TyNCCvSwzFfO/cxmTWtAql5N",
      "include_colab_link": true
    },
    "kernelspec": {
      "name": "python3",
      "display_name": "Python 3"
    },
    "language_info": {
      "name": "python"
    }
  },
  "cells": [
    {
      "cell_type": "markdown",
      "metadata": {
        "id": "view-in-github",
        "colab_type": "text"
      },
      "source": [
        "<a href=\"https://colab.research.google.com/github/aperfilyeva/anna_data690/blob/main/Assignment_03/Homework3_help.ipynb\" target=\"_parent\"><img src=\"https://colab.research.google.com/assets/colab-badge.svg\" alt=\"Open In Colab\"/></a>"
      ]
    },
    {
      "cell_type": "code",
      "execution_count": null,
      "metadata": {
        "id": "5QMNngENw6dC"
      },
      "outputs": [],
      "source": [
        ""
      ]
    },
    {
      "cell_type": "markdown",
      "source": [
        ""
      ],
      "metadata": {
        "id": "SauRzwTkw7WP"
      }
    },
    {
      "cell_type": "code",
      "source": [
        "x=[2,5,12,\"jay\",\"wang\"]\n",
        "\n",
        "print(x)"
      ],
      "metadata": {
        "colab": {
          "base_uri": "https://localhost:8080/"
        },
        "id": "bLpu8K84w9dU",
        "outputId": "06a4549d-7782-4dba-c0b3-65ceb4edc0c0"
      },
      "execution_count": 1,
      "outputs": [
        {
          "output_type": "stream",
          "name": "stdout",
          "text": [
            "[2, 5, 12, 'jay', 'wang']\n"
          ]
        }
      ]
    },
    {
      "cell_type": "code",
      "source": [
        "for a in x:\n",
        "      print(a,end=\" * \")\n"
      ],
      "metadata": {
        "colab": {
          "base_uri": "https://localhost:8080/"
        },
        "id": "99_3yw9GxIKp",
        "outputId": "19c5590b-e024-4691-b58a-9ccbbc7c9d10"
      },
      "execution_count": 10,
      "outputs": [
        {
          "output_type": "stream",
          "name": "stdout",
          "text": [
            "2 * 5 * 12 * jay * wang * "
          ]
        }
      ]
    },
    {
      "cell_type": "code",
      "source": [
        "5 in x"
      ],
      "metadata": {
        "colab": {
          "base_uri": "https://localhost:8080/"
        },
        "id": "P0eI_mvwxmM5",
        "outputId": "aad0ae27-4cb7-4105-c9f8-9874fcc14778"
      },
      "execution_count": 3,
      "outputs": [
        {
          "output_type": "execute_result",
          "data": {
            "text/plain": [
              "True"
            ]
          },
          "metadata": {},
          "execution_count": 3
        }
      ]
    },
    {
      "cell_type": "code",
      "source": [
        "if 5 in x:\n",
        "    print(\"5 is a member of a list x\")\n",
        "else:\n",
        "    print(\"5 is not a member\")"
      ],
      "metadata": {
        "colab": {
          "base_uri": "https://localhost:8080/"
        },
        "id": "niL3xUvBxoBf",
        "outputId": "1cf1cbc1-e2ef-4eff-ab33-5b6caff41f5d"
      },
      "execution_count": 5,
      "outputs": [
        {
          "output_type": "stream",
          "name": "stdout",
          "text": [
            "5 is a member of a list x\n"
          ]
        }
      ]
    },
    {
      "cell_type": "code",
      "source": [
        "y=[5,1,2,3,4,6,7,8,4,3]\n",
        "\n",
        "print(y)"
      ],
      "metadata": {
        "colab": {
          "base_uri": "https://localhost:8080/"
        },
        "id": "D07eC-Q7yBwW",
        "outputId": "dfdd89ce-8321-4848-898c-552e12449aaf"
      },
      "execution_count": 7,
      "outputs": [
        {
          "output_type": "stream",
          "name": "stdout",
          "text": [
            "[5, 1, 2, 3, 4, 6, 7, 8, 4, 3]\n"
          ]
        }
      ]
    },
    {
      "cell_type": "code",
      "source": [
        "for b in y:\n",
        "    print(b)"
      ],
      "metadata": {
        "colab": {
          "base_uri": "https://localhost:8080/"
        },
        "id": "1DU3M6hWzA-j",
        "outputId": "1f061006-e5a4-4d02-bff5-94685ecab82f"
      },
      "execution_count": 8,
      "outputs": [
        {
          "output_type": "stream",
          "name": "stdout",
          "text": [
            "5\n",
            "1\n",
            "2\n",
            "3\n",
            "4\n",
            "6\n",
            "7\n",
            "8\n",
            "4\n",
            "3\n"
          ]
        }
      ]
    },
    {
      "cell_type": "code",
      "source": [
        "for b in y:\n",
        "    print(b,end=\" \")"
      ],
      "metadata": {
        "colab": {
          "base_uri": "https://localhost:8080/"
        },
        "id": "zxpCdIHozHgx",
        "outputId": "58b73622-a1f9-46d0-eccc-1e8239b17e9b"
      },
      "execution_count": 9,
      "outputs": [
        {
          "output_type": "stream",
          "name": "stdout",
          "text": [
            "5 1 2 3 4 6 7 8 4 3 "
          ]
        }
      ]
    },
    {
      "cell_type": "code",
      "source": [
        "import random\n",
        "\n",
        "random.randint(0,9)"
      ],
      "metadata": {
        "colab": {
          "base_uri": "https://localhost:8080/"
        },
        "id": "I7e9xjnczW8E",
        "outputId": "6a84a802-b279-4e04-de36-bbcc22905978"
      },
      "execution_count": 15,
      "outputs": [
        {
          "output_type": "execute_result",
          "data": {
            "text/plain": [
              "3"
            ]
          },
          "metadata": {},
          "execution_count": 15
        }
      ]
    },
    {
      "cell_type": "code",
      "source": [
        "for n in range(10):\n",
        "  for i in range (10):\n",
        "      print(random.randint(0,9), end=\" \")\n",
        " # print(random.randint(0,9))\n",
        " # print(\"\")\n",
        " # print(\"\\n\", end=\"\")"
      ],
      "metadata": {
        "colab": {
          "base_uri": "https://localhost:8080/"
        },
        "id": "rZbmtjAW0A1j",
        "outputId": "86c450ea-b7a9-4780-c789-52e75f11dc4b"
      },
      "execution_count": 22,
      "outputs": [
        {
          "output_type": "stream",
          "name": "stdout",
          "text": [
            "7 3 6 7 7 4 9 5 0 8 0\n",
            "1 0 1 5 5 0 9 2 7 4 8\n",
            "0 7 7 5 1 4 5 6 7 0 5\n",
            "9 1 2 3 1 7 9 9 5 1 6\n",
            "9 6 5 9 8 1 8 9 7 9 5\n",
            "0 9 6 9 7 1 5 8 4 7 3\n",
            "0 5 6 0 7 5 1 4 9 7 1\n",
            "3 6 7 2 0 9 4 2 2 2 9\n",
            "1 9 3 6 8 0 1 0 1 4 1\n",
            "2 9 9 5 8 7 7 8 9 2 2\n"
          ]
        }
      ]
    },
    {
      "cell_type": "code",
      "source": [
        ""
      ],
      "metadata": {
        "id": "EE-wZN6V03Lq"
      },
      "execution_count": null,
      "outputs": []
    }
  ]
}