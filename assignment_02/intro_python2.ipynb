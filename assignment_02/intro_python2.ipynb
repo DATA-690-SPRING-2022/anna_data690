{
  "nbformat": 4,
  "nbformat_minor": 0,
  "metadata": {
    "colab": {
      "name": "intro_python2.ipynb",
      "provenance": [],
      "authorship_tag": "ABX9TyOpJQbD+DmvJlYvUSmTvgy2",
      "include_colab_link": true
    },
    "kernelspec": {
      "name": "python3",
      "display_name": "Python 3"
    },
    "language_info": {
      "name": "python"
    }
  },
  "cells": [
    {
      "cell_type": "markdown",
      "metadata": {
        "id": "view-in-github",
        "colab_type": "text"
      },
      "source": [
        "<a href=\"https://colab.research.google.com/github/aperfilyeva/anna_data690/blob/main/assignment_02/intro_python2.ipynb\" target=\"_parent\"><img src=\"https://colab.research.google.com/assets/colab-badge.svg\" alt=\"Open In Colab\"/></a>"
      ]
    },
    {
      "cell_type": "code",
      "execution_count": null,
      "metadata": {
        "id": "nCZvzIJwAHZd"
      },
      "outputs": [],
      "source": [
        ""
      ]
    },
    {
      "cell_type": "markdown",
      "source": [
        "# Introduction to Python - Part 2\n",
        "\n",
        " - Name: Anna Perfilyeva\n",
        " - Date: 2/8/2022"
      ],
      "metadata": {
        "id": "nbri__KWAOTM"
      }
    },
    {
      "cell_type": "code",
      "source": [
        "x=input(\"Please tell me your age:\") # x is whatever user inputs\n"
      ],
      "metadata": {
        "colab": {
          "base_uri": "https://localhost:8080/"
        },
        "id": "RlaiiOxfAZyZ",
        "outputId": "52d49b6f-5afb-4dc8-9517-f7a7efd1bb5b"
      },
      "execution_count": 5,
      "outputs": [
        {
          "name": "stdout",
          "output_type": "stream",
          "text": [
            "Please tell me your age:33\n"
          ]
        }
      ]
    },
    {
      "cell_type": "code",
      "source": [
        "print(\"Your age is\", x)"
      ],
      "metadata": {
        "colab": {
          "base_uri": "https://localhost:8080/"
        },
        "id": "bbkOXpHIAiv8",
        "outputId": "40a1310b-1b26-47f6-f746-c208ffa74b55"
      },
      "execution_count": 6,
      "outputs": [
        {
          "output_type": "stream",
          "name": "stdout",
          "text": [
            "Your age is 33\n"
          ]
        }
      ]
    },
    {
      "cell_type": "code",
      "source": [
        "type(x)"
      ],
      "metadata": {
        "colab": {
          "base_uri": "https://localhost:8080/"
        },
        "id": "E-DAm8-GA6a9",
        "outputId": "ae9f6f42-af23-447d-cc7c-57ac3ae2ba81"
      },
      "execution_count": 3,
      "outputs": [
        {
          "output_type": "execute_result",
          "data": {
            "text/plain": [
              "str"
            ]
          },
          "metadata": {},
          "execution_count": 3
        }
      ]
    },
    {
      "cell_type": "code",
      "source": [
        "print(x)"
      ],
      "metadata": {
        "colab": {
          "base_uri": "https://localhost:8080/"
        },
        "id": "KEUaAPhMBBt1",
        "outputId": "17997b41-70e0-4ea8-cfcb-61b6e5930e59"
      },
      "execution_count": 4,
      "outputs": [
        {
          "output_type": "stream",
          "name": "stdout",
          "text": [
            "30\n"
          ]
        }
      ]
    },
    {
      "cell_type": "code",
      "source": [
        "x=input(\"Please tell me your age:\")\n",
        "\n",
        "y=int(x)\n",
        "if y==56:\n",
        "  print(\"You and I have the same age\")\n",
        "elif y>56 :\n",
        "  print(\"You are older than me\")\n",
        "else:\n",
        "  print(\"You are younger than me\")"
      ],
      "metadata": {
        "colab": {
          "base_uri": "https://localhost:8080/"
        },
        "id": "vycFDYixBGqg",
        "outputId": "87be63e2-4a8c-42aa-de34-073395ca5a7d"
      },
      "execution_count": 7,
      "outputs": [
        {
          "output_type": "stream",
          "name": "stdout",
          "text": [
            "Please tell me your age:42\n",
            "You are younger than me\n"
          ]
        }
      ]
    },
    {
      "cell_type": "code",
      "source": [
        "while True: \n",
        "  x=input(\"Please tell me your age:\")\n",
        "  try:\n",
        "    y=int(x)\n",
        "    break   #break out of the loop if successful\n",
        "  except: \n",
        "      continue\n",
        "\n",
        "if y==56:\n",
        "  print(\"You and I have the same age\")\n",
        "elif y>56 :\n",
        "  print(\"You are older than me\")\n",
        "else:\n",
        "  print(\"You are younger than me\")"
      ],
      "metadata": {
        "colab": {
          "base_uri": "https://localhost:8080/"
        },
        "id": "qwQG_syDCsA3",
        "outputId": "dc1fbd81-17fd-4d1b-92eb-b2174d278729"
      },
      "execution_count": 10,
      "outputs": [
        {
          "output_type": "stream",
          "name": "stdout",
          "text": [
            "Please tell me your age:ten\n",
            "Please tell me your age:10\n",
            "You are younger than me\n"
          ]
        }
      ]
    },
    {
      "cell_type": "code",
      "source": [
        ""
      ],
      "metadata": {
        "id": "WPS88-u2DxRG"
      },
      "execution_count": null,
      "outputs": []
    }
  ]
}