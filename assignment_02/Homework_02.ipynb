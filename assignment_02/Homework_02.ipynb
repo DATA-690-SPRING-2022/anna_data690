{
  "nbformat": 4,
  "nbformat_minor": 0,
  "metadata": {
    "colab": {
      "name": "Homework_02.ipynb",
      "provenance": [],
      "collapsed_sections": [],
      "authorship_tag": "ABX9TyMilNa8xFXDzahP7v5Cp/mZ",
      "include_colab_link": true
    },
    "kernelspec": {
      "name": "python3",
      "display_name": "Python 3"
    },
    "language_info": {
      "name": "python"
    }
  },
  "cells": [
    {
      "cell_type": "markdown",
      "metadata": {
        "id": "view-in-github",
        "colab_type": "text"
      },
      "source": [
        "<a href=\"https://colab.research.google.com/github/aperfilyeva/anna_data690/blob/main/assignment_02/Homework_02.ipynb\" target=\"_parent\"><img src=\"https://colab.research.google.com/assets/colab-badge.svg\" alt=\"Open In Colab\"/></a>"
      ]
    },
    {
      "cell_type": "code",
      "source": [
        ""
      ],
      "metadata": {
        "id": "zpKp_LYODtvF"
      },
      "execution_count": null,
      "outputs": []
    },
    {
      "cell_type": "markdown",
      "source": [
        "# Homework 2\n",
        "\n",
        " - Name: Anna Perfilyeva\n",
        " - Date: 02/10/2022"
      ],
      "metadata": {
        "id": "hszCufGTcSDf"
      }
    },
    {
      "cell_type": "markdown",
      "source": [
        "## 1. User input"
      ],
      "metadata": {
        "id": "lBkrahOXBtiq"
      }
    },
    {
      "cell_type": "code",
      "source": [
        "print(\"You will be asked to enter 10 integers.\")\n",
        "i=0   #initiate the counter\n",
        "y=[]  #initiate a blank list\n",
        "while i<10: \n",
        "  x=input(\"Enter an integer:\")\n",
        "  try:\n",
        "    z=int(x)\n",
        "    y.append(z)\n",
        "    i=i+1\n",
        "  except: #if something is not working, then\n",
        "    print(\"You've enetered a non-integer. Please try again.\")\n",
        "  continue  #go back to request user nput\n",
        "print(\"You entered: \", y)\n"
      ],
      "metadata": {
        "colab": {
          "base_uri": "https://localhost:8080/"
        },
        "id": "JjcyjpRKgFMk",
        "outputId": "08435aeb-ea2b-4ab8-fc71-a0500bb311f4"
      },
      "execution_count": 12,
      "outputs": [
        {
          "output_type": "stream",
          "name": "stdout",
          "text": [
            "You will be asked to enter 10 integers.\n",
            "Enter an integer:1\n",
            "Enter an integer:2\n",
            "Enter an integer:3\n",
            "Enter an integer:4\n",
            "Enter an integer:5\n",
            "Enter an integer:6\n",
            "Enter an integer:7\n",
            "Enter an integer:5\n",
            "Enter an integer:4\n",
            "Enter an integer:3\n",
            "You entered:  [1, 2, 3, 4, 5, 6, 7, 5, 4, 3]\n"
          ]
        }
      ]
    },
    {
      "cell_type": "markdown",
      "source": [
        "## 2. Summary Statistics"
      ],
      "metadata": {
        "id": "UY2l53UMBmdX"
      }
    },
    {
      "cell_type": "code",
      "source": [
        "print(\"Here are the summary statistics for the values you've entered:\")\n",
        "\n",
        "# Find Minimum Value\n",
        "min_value=y[0]\n",
        "for i in y:\n",
        "  if i<min_value:\n",
        "      min_value=i  \n",
        "print(\"Minimum: \",min_value)\n",
        "\n",
        "# Find Maximum Value\n",
        "max_value=y[0]\n",
        "for i in y:\n",
        "  if i>max_value:\n",
        "      max_value=i  \n",
        "print(\"Maximum: \",max_value)\n",
        "\n",
        "# Find Range\n",
        "print(\"Range: \", max_value-min_value)\n",
        "\n",
        "# Find Mean\n",
        "mean=sum(y)/len(y)\n",
        "print( \"Mean: \", mean)\n",
        "\n",
        "# Find Variance\n",
        "variance=sum((i-mean)**2 for i in y)/(len(y)-1)\n",
        "print(\"Variance: \", variance)\n",
        "\n",
        "#Find Standard Deviation\n",
        "stdev=variance**0.5\n",
        "print(\"Standard Deviation: \",stdev)"
      ],
      "metadata": {
        "colab": {
          "base_uri": "https://localhost:8080/"
        },
        "id": "PZjYo_FoLvcT",
        "outputId": "a87c25b8-db59-4e13-8c8d-4003066fbe13"
      },
      "execution_count": 13,
      "outputs": [
        {
          "output_type": "stream",
          "name": "stdout",
          "text": [
            "Here are the summary statistics for the values you've entered:\n",
            "Minimum:  1\n",
            "Maximum:  7\n",
            "Range:  6\n",
            "Mean:  4.0\n",
            "Variance:  3.3333333333333335\n",
            "Standard Deviation:  1.8257418583505538\n"
          ]
        }
      ]
    },
    {
      "cell_type": "markdown",
      "source": [
        "### 3. For Internal Purposes Only:"
      ],
      "metadata": {
        "id": "ISM8X_SVDBx6"
      }
    },
    {
      "cell_type": "code",
      "source": [
        "# Verify using Statistics package\n",
        "import statistics\n",
        "print(len(y))\n",
        "print(\"Min: \",min(y))\n",
        "print(\"Maximum: \", max(y))\n",
        "print(\"Range:\", max(y)-min(y))\n",
        "print(\"Mean:\", sum(y)/len(y))\n",
        "print(\"Variance:\", statistics.variance(y))\n",
        "print(\"Standard Deviation:\", statistics.stdev(y))\n",
        "\n"
      ],
      "metadata": {
        "colab": {
          "base_uri": "https://localhost:8080/"
        },
        "id": "czjPZ0mLJmJA",
        "outputId": "56f5bc4e-070c-49ac-f318-317055f156d8"
      },
      "execution_count": 14,
      "outputs": [
        {
          "output_type": "stream",
          "name": "stdout",
          "text": [
            "10\n",
            "Min:  1\n",
            "Maximum:  7\n",
            "Range: 6\n",
            "Mean: 4.0\n",
            "Variance: 3.3333333333333335\n",
            "Standard Deviation: 1.8257418583505538\n"
          ]
        }
      ]
    },
    {
      "cell_type": "code",
      "source": [
        ""
      ],
      "metadata": {
        "id": "1N3rmv72ODDr"
      },
      "execution_count": null,
      "outputs": []
    }
  ]
}