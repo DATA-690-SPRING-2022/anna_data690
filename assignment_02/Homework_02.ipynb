{
  "nbformat": 4,
  "nbformat_minor": 0,
  "metadata": {
    "colab": {
      "name": "Homework_02_backup.ipynb",
      "provenance": [],
      "collapsed_sections": [],
      "authorship_tag": "ABX9TyNSfKtXagPnT31UGKZV4lfZ",
      "include_colab_link": true
    },
    "kernelspec": {
      "name": "python3",
      "display_name": "Python 3"
    },
    "language_info": {
      "name": "python"
    }
  },
  "cells": [
    {
      "cell_type": "markdown",
      "metadata": {
        "id": "view-in-github",
        "colab_type": "text"
      },
      "source": [
        "<a href=\"https://colab.research.google.com/github/aperfilyeva/anna_data690/blob/main/assignment_02/Homework_02.ipynb\" target=\"_parent\"><img src=\"https://colab.research.google.com/assets/colab-badge.svg\" alt=\"Open In Colab\"/></a>"
      ]
    },
    {
      "cell_type": "code",
      "source": [
        ""
      ],
      "metadata": {
        "id": "zpKp_LYODtvF"
      },
      "execution_count": null,
      "outputs": []
    },
    {
      "cell_type": "markdown",
      "source": [
        "# Homework 2\n",
        "\n",
        " - Name: Anna Perfilyeva\n",
        " - Date: 02/10/2022"
      ],
      "metadata": {
        "id": "hszCufGTcSDf"
      }
    },
    {
      "cell_type": "markdown",
      "source": [
        "## 1. User input"
      ],
      "metadata": {
        "id": "lBkrahOXBtiq"
      }
    },
    {
      "cell_type": "code",
      "source": [
        "print(\"You will be asked to enter 10 integers.\")\n",
        "i=0\n",
        "y=[]\n",
        "while i<10: \n",
        "  x=input(\"Enter an integer:\")\n",
        "  try:\n",
        "    z=int(x)\n",
        "    y.append(z)\n",
        "    i=i+1\n",
        "  except: #if something is not working, then\n",
        "    print(\"You've enetered a non-integer. Please try again.\")\n",
        "  continue  #go back to request user nput\n",
        "print(\"You entered: \", y)\n"
      ],
      "metadata": {
        "id": "JjcyjpRKgFMk"
      },
      "execution_count": null,
      "outputs": []
    },
    {
      "cell_type": "markdown",
      "source": [
        "## 2. Summary Statistics"
      ],
      "metadata": {
        "id": "UY2l53UMBmdX"
      }
    },
    {
      "cell_type": "code",
      "source": [
        "print(\"Here are the summary statistics for the values you've entered:\")\n",
        "\n",
        "# Find Minimum Value\n",
        "min_value=y[0]\n",
        "for i in y:\n",
        "  if i<min_value:\n",
        "      min_value=i  \n",
        "print(\"Minimum: \",min_value)\n",
        "\n",
        "# Find Maximum Value\n",
        "max_value=y[0]\n",
        "for i in y:\n",
        "  if i>max_value:\n",
        "      max_value=i  \n",
        "print(\"Maximum: \",max_value)\n",
        "\n",
        "# Find Range\n",
        "print(\"Range: \", max_value-min_value)\n",
        "\n",
        "# Find Mean\n",
        "mean=sum(y)/len(y)\n",
        "print( \"Mean: \", mean)\n",
        "\n",
        "# Find Variance\n",
        "variance=sum((i-mean)**2 for i in y)/(len(y)-1)\n",
        "print(\"Variance: \", variance)\n",
        "\n",
        "#Find Standard Deviation\n",
        "stdev=variance**0.5\n",
        "print(\"Standard Deviation: \",stdev)"
      ],
      "metadata": {
        "colab": {
          "base_uri": "https://localhost:8080/"
        },
        "id": "PZjYo_FoLvcT",
        "outputId": "0eb58e29-cfdb-4dfb-82b6-1ad9a039ba91"
      },
      "execution_count": 9,
      "outputs": [
        {
          "output_type": "stream",
          "name": "stdout",
          "text": [
            "Here are the summary statistics for the values you've entered:\n",
            "Minimum:  1\n",
            "Maximum:  7\n",
            "Range:  6\n",
            "Mean:  4.0\n",
            "Variance:  4.0\n",
            "Standard Deviation:  2.0\n"
          ]
        }
      ]
    },
    {
      "cell_type": "markdown",
      "source": [
        "### 3. For Internal Purposes Only:"
      ],
      "metadata": {
        "id": "ISM8X_SVDBx6"
      }
    },
    {
      "cell_type": "code",
      "source": [
        "# Verify using Statistics package\n",
        "import statistics\n",
        "print(len(y))\n",
        "print(\"Min: \",min(y))\n",
        "print(\"Maximum: \", max(y))\n",
        "print(\"Range:\", max(y)-min(y))\n",
        "print(\"Mean:\", sum(y)/len(y))\n",
        "print(\"Variance:\", statistics.variance(y))\n",
        "print(\"Standard Deviation:\", statistics.stdev(y))\n",
        "\n"
      ],
      "metadata": {
        "colab": {
          "base_uri": "https://localhost:8080/"
        },
        "id": "czjPZ0mLJmJA",
        "outputId": "2d8f1042-980f-426b-89dd-9b77b4eb9cde"
      },
      "execution_count": 66,
      "outputs": [
        {
          "output_type": "stream",
          "name": "stdout",
          "text": [
            "10\n",
            "Min:  1\n",
            "Maximum:  20\n",
            "Range: 19\n",
            "Mean: 6.5\n",
            "Variance: 29.166666666666668\n",
            "Standard Deviation: 5.400617248673217\n"
          ]
        }
      ]
    },
    {
      "cell_type": "code",
      "source": [
        ""
      ],
      "metadata": {
        "id": "1N3rmv72ODDr"
      },
      "execution_count": null,
      "outputs": []
    }
  ]
}