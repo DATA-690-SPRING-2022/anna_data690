{
  "nbformat": 4,
  "nbformat_minor": 0,
  "metadata": {
    "colab": {
      "name": "assignment_01.ipynb",
      "provenance": [],
      "collapsed_sections": [],
      "authorship_tag": "ABX9TyMBgP984iwBKGzvpkBrfZKh",
      "include_colab_link": true
    },
    "kernelspec": {
      "name": "python3",
      "display_name": "Python 3"
    },
    "language_info": {
      "name": "python"
    }
  },
  "cells": [
    {
      "cell_type": "markdown",
      "metadata": {
        "id": "view-in-github",
        "colab_type": "text"
      },
      "source": [
        "<a href=\"https://colab.research.google.com/github/aperfilyeva/anna_data690/blob/main/assignment01/assignment_01.ipynb\" target=\"_parent\"><img src=\"https://colab.research.google.com/assets/colab-badge.svg\" alt=\"Open In Colab\"/></a>"
      ]
    },
    {
      "cell_type": "code",
      "execution_count": null,
      "metadata": {
        "id": "9OU-iWxuFIAP"
      },
      "outputs": [],
      "source": [
        ""
      ]
    },
    {
      "cell_type": "markdown",
      "source": [
        "# Data 690 In-class practices\n",
        "\n",
        " - Name: **Anna Perfilyeva**\n",
        " - Date: **01/31/2022**\n",
        " - Session: **01**\n"
      ],
      "metadata": {
        "id": "J278m5k8FXfV"
      }
    },
    {
      "cell_type": "code",
      "source": [
        "print (\"Hello World!\")"
      ],
      "metadata": {
        "colab": {
          "base_uri": "https://localhost:8080/"
        },
        "id": "dH3FGhAgGCsX",
        "outputId": "cfc92331-6bae-4e2e-aafe-6d1d0a970bc9"
      },
      "execution_count": null,
      "outputs": [
        {
          "output_type": "stream",
          "name": "stdout",
          "text": [
            "Hello World!\n"
          ]
        }
      ]
    },
    {
      "cell_type": "code",
      "source": [
        "x=40\n",
        "y=20\n",
        "z=x+y\n",
        "print(\"z=\", z)"
      ],
      "metadata": {
        "colab": {
          "base_uri": "https://localhost:8080/"
        },
        "id": "GeGkzZgAGJA1",
        "outputId": "527b4f26-9f65-4015-98f0-85b45b7c7e8b"
      },
      "execution_count": null,
      "outputs": [
        {
          "output_type": "stream",
          "name": "stdout",
          "text": [
            "z= 60\n"
          ]
        }
      ]
    },
    {
      "cell_type": "code",
      "source": [
        ""
      ],
      "metadata": {
        "id": "xx55tjF9Gj1M"
      },
      "execution_count": null,
      "outputs": []
    }
  ]
}