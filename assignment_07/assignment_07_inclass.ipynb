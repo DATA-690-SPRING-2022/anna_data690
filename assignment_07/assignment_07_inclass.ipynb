{
  "nbformat": 4,
  "nbformat_minor": 0,
  "metadata": {
    "colab": {
      "name": "assignment_07_inclass.ipynb",
      "provenance": [],
      "authorship_tag": "ABX9TyNAFLJ3CYdKec4kMxkBw6Ph",
      "include_colab_link": true
    },
    "kernelspec": {
      "name": "python3",
      "display_name": "Python 3"
    },
    "language_info": {
      "name": "python"
    }
  },
  "cells": [
    {
      "cell_type": "markdown",
      "metadata": {
        "id": "view-in-github",
        "colab_type": "text"
      },
      "source": [
        "<a href=\"https://colab.research.google.com/github/aperfilyeva/anna_data690/blob/main/assignment_07/assignment_07_inclass.ipynb\" target=\"_parent\"><img src=\"https://colab.research.google.com/assets/colab-badge.svg\" alt=\"Open In Colab\"/></a>"
      ]
    },
    {
      "cell_type": "markdown",
      "source": [
        "DATA 606\n",
        "\n",
        "4 TEAMS: A, B, C, D"
      ],
      "metadata": {
        "id": "Ge4YkK760wO1"
      }
    },
    {
      "cell_type": "code",
      "execution_count": 1,
      "metadata": {
        "id": "MKKpA5U4zRjN"
      },
      "outputs": [],
      "source": [
        "import random"
      ]
    },
    {
      "cell_type": "code",
      "source": [
        "random.choice(['A','B','C','D'])"
      ],
      "metadata": {
        "colab": {
          "base_uri": "https://localhost:8080/",
          "height": 35
        },
        "id": "1nRVya5L0_xF",
        "outputId": "aeab8431-27c4-4955-e1f5-b4857dc69c73"
      },
      "execution_count": 2,
      "outputs": [
        {
          "output_type": "execute_result",
          "data": {
            "text/plain": [
              "'B'"
            ],
            "application/vnd.google.colaboratory.intrinsic+json": {
              "type": "string"
            }
          },
          "metadata": {},
          "execution_count": 2
        }
      ]
    },
    {
      "cell_type": "code",
      "source": [
        "team_list=['A','B','C','D']\n",
        "print(\"Team\", team_list[random.randint(0,3)], \"is randomly selected to present\")"
      ],
      "metadata": {
        "colab": {
          "base_uri": "https://localhost:8080/"
        },
        "id": "e6jX01Aj1O1l",
        "outputId": "84dccd72-b5da-489b-dbef-02968cbe1586"
      },
      "execution_count": 5,
      "outputs": [
        {
          "output_type": "stream",
          "name": "stdout",
          "text": [
            "Team D is randomly selected to present\n"
          ]
        }
      ]
    },
    {
      "cell_type": "code",
      "source": [
        "print(\"Team\", random.choice(team_list), \"is randomly selected to present\")"
      ],
      "metadata": {
        "colab": {
          "base_uri": "https://localhost:8080/"
        },
        "id": "rGvi7yA63JgH",
        "outputId": "97299efc-34e8-4a48-ec9b-beb618b6cb53"
      },
      "execution_count": 8,
      "outputs": [
        {
          "output_type": "stream",
          "name": "stdout",
          "text": [
            "Team D is randomly selected to present\n"
          ]
        }
      ]
    },
    {
      "cell_type": "code",
      "source": [
        "# Multiple draws to select the team with most picks\n",
        "# create a dictionary of team list choices\n",
        "team_dict={\n",
        "        \"A\": 0,\n",
        "        \"B\": 0,\n",
        "        \"C\": 0,\n",
        "        \"D\": 0\n",
        "}\n",
        "for i in range(10): # rage (start, stop, step) range (0,10,1), shortcut is range(10)\n",
        "    team_dict[random.choice(team_list)] += 1\n",
        "    \n",
        "print(team_dict)"
      ],
      "metadata": {
        "colab": {
          "base_uri": "https://localhost:8080/"
        },
        "id": "EUDvPMVi1j0C",
        "outputId": "beac0c4a-e043-4f39-86fb-8d66e7815fff"
      },
      "execution_count": 9,
      "outputs": [
        {
          "output_type": "stream",
          "name": "stdout",
          "text": [
            "{'A': 2, 'B': 1, 'C': 4, 'D': 3}\n"
          ]
        }
      ]
    },
    {
      "cell_type": "code",
      "source": [
        "team_dict.keys()"
      ],
      "metadata": {
        "colab": {
          "base_uri": "https://localhost:8080/"
        },
        "id": "bmGesYZJ29eR",
        "outputId": "7a1f2b82-d958-4ae4-80b8-04ceeb943e8a"
      },
      "execution_count": 10,
      "outputs": [
        {
          "output_type": "execute_result",
          "data": {
            "text/plain": [
              "dict_keys(['A', 'B', 'C', 'D'])"
            ]
          },
          "metadata": {},
          "execution_count": 10
        }
      ]
    },
    {
      "cell_type": "code",
      "source": [
        "team_dict={\n",
        "        \"A\": 0,\n",
        "        \"B\": 0,\n",
        "        \"C\": 0,\n",
        "        \"D\": 0\n",
        "}\n",
        "for i in range(100): # rage (start, stop, step) range (0,10,1), shortcut is range(10)\n",
        "    team_dict[random.choice(list(team_dict.keys()))] += 1\n",
        "    \n",
        "print(team_dict)"
      ],
      "metadata": {
        "colab": {
          "base_uri": "https://localhost:8080/"
        },
        "id": "w4O7a5Ny5iPA",
        "outputId": "a74fb830-14b1-4a22-98fd-122cb5f31c5a"
      },
      "execution_count": 12,
      "outputs": [
        {
          "output_type": "stream",
          "name": "stdout",
          "text": [
            "{'A': 21, 'B': 25, 'C': 26, 'D': 28}\n"
          ]
        }
      ]
    },
    {
      "cell_type": "code",
      "source": [
        ""
      ],
      "metadata": {
        "id": "6-wukc3d55x0"
      },
      "execution_count": null,
      "outputs": []
    }
  ]
}